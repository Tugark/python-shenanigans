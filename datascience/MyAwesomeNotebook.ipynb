{
 "cells": [
  {
   "cell_type": "code",
   "execution_count": 1,
   "id": "14054cca",
   "metadata": {},
   "outputs": [
    {
     "name": "stdout",
     "output_type": "stream",
     "text": [
      "Hello World :)\n"
     ]
    }
   ],
   "source": [
    "print('Hello World :)')"
   ]
  },
  {
   "cell_type": "code",
   "execution_count": 2,
   "id": "b60d1893",
   "metadata": {},
   "outputs": [
    {
     "data": {
      "text/plain": [
       "'{\"categories\":[],\"created_at\":\"2020-01-05 13:42:18.823766\",\"icon_url\":\"https://assets.chucknorris.host/img/avatar/chuck-norris.png\",\"id\":\"WIWNL3WPTpGEfQXz896NhQ\",\"updated_at\":\"2020-01-05 13:42:18.823766\",\"url\":\"https://api.chucknorris.io/jokes/WIWNL3WPTpGEfQXz896NhQ\",\"value\":\"Chuck Norris scares leftovers into being fresh with one bite\"}'"
      ]
     },
     "execution_count": 2,
     "metadata": {},
     "output_type": "execute_result"
    }
   ],
   "source": [
    "import requests\n",
    "result = requests.get('https://api.chucknorris.io/jokes/random')\n",
    "result.text"
   ]
  },
  {
   "cell_type": "code",
   "execution_count": null,
   "id": "14893890",
   "metadata": {},
   "outputs": [],
   "source": []
  }
 ],
 "metadata": {
  "kernelspec": {
   "display_name": "Python 3 (ipykernel)",
   "language": "python",
   "name": "python3"
  },
  "language_info": {
   "codemirror_mode": {
    "name": "ipython",
    "version": 3
   },
   "file_extension": ".py",
   "mimetype": "text/x-python",
   "name": "python",
   "nbconvert_exporter": "python",
   "pygments_lexer": "ipython3",
   "version": "3.11.2"
  }
 },
 "nbformat": 4,
 "nbformat_minor": 5
}
